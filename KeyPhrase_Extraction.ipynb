{
 "cells": [
  {
   "cell_type": "code",
   "execution_count": 2,
   "metadata": {},
   "outputs": [],
   "source": [
    "import gensim\n",
    "from gensim.models import word2vec\n",
    "from gensim.models import KeyedVectors\n",
    "from sklearn.metrics.pairwise import cosine_similarity\n",
    "import nltk\n",
    "from nltk.corpus import stopwords"
   ]
  },
  {
   "cell_type": "code",
   "execution_count": 3,
   "metadata": {},
   "outputs": [
    {
     "name": "stdout",
     "output_type": "stream",
     "text": [
      "[['the', 'name', 'bollywood', 'portmanteau', 'derived', 'bombay', 'former', 'name', 'mumbai', 'hollywood', 'california', 'center', 'american', 'film', 'industry'], ['bollywood', 'exist', 'physical', 'place'], ['the', 'name', 'bollywood', 'criticized', 'film', 'journalists', 'critics', 'arguing', 'makes', 'industry', 'look', 'like', 'poor', 'cousin', 'hollywood'], ['according', 'madhava', 'prasad-', 'author', 'ideology', 'hindi', 'film—2000', 'surviving', 'bollywood—2008', 'described', 'bollywood', 'inspired', 'tollywood', '—once', 'refer', 'cinema', 'west', 'bengal', 'dating', 'back', '1932'], ['tollywood', 'earliest', 'hollywood-inspired', 'name', 'referring', 'bengali', 'film', 'industry', 'based', 'tollygunge', 'calcutta', 'west', 'bengal', 'whose', 'name', 'reminiscent', 'hollywood', 'centre', 'cinema', 'india', 'time'], ['according', 'p.anandam', 'kavoori', 'aswin', 'punathambekar', 'book', 'global', 'bollywood', '2008', '—the', 'popular', 'calcutta-based', 'junior', 'statesman', 'youth', 'magazine', 'establishing', 'precedent', 'film', 'industries', 'use', 'similar-sounding', 'names', 'eventually', 'leading', 'coining', 'bollywood'], ['tollywood', 'referred', 'telugu', 'film', 'industry', 'part', 'indian', 'cinema'], ['according', 'oxforddictionaries.com—', 'online', 'version', 'oxford', 'dictionary', 'english', 'word', 'bollywood', 'got', 'originated', '1970'], ['print', 'media', 'also', 'claims', 'got', 'originated', '1970', 'popularized', 'time', 'cinema', 'india', 'overtook', 'hollywood', 'terms', 'film', 'production'], ['many', 'journalists', 'credited', 'newspapers', 'invention', 'word', 'bollywood'], ['according', 'the', 'telegraph', 'article', 'published', '2005', 'amit', 'khanna', 'coined', 'word', 'bollywood'], ['according', 'the', 'hindu', 'article', 'published', '2004', 'journalist', 'bevinda', 'collaco'], []]\n",
      "done\n"
     ]
    }
   ],
   "source": [
    "stop_words = set(stopwords.words('english'))\n",
    "\n",
    "def text_processing(file):\n",
    "    f = open(file, 'r', encoding='utf-8')\n",
    "    text = f.read()\n",
    "    \n",
    "    #Tokenization : Convert to sentences and then to words\n",
    "    sentences = nltk.sent_tokenize(text)\n",
    "    \n",
    "    data = []\n",
    "    \n",
    "    for sent in sentences:\n",
    "        words = nltk.word_tokenize(sent)\n",
    "        words = [w.lower() for w in words if len(w)>2 and w not in stop_words]\n",
    "        data.append(words)\n",
    "        \n",
    "    return data\n",
    "\n",
    "text = text_processing(\"stars.txt\")\n",
    "print(text)\n",
    "print(\"done\")"
   ]
  }
 ],
 "metadata": {
  "kernelspec": {
   "display_name": "Python 3",
   "language": "python",
   "name": "python3"
  },
  "language_info": {
   "codemirror_mode": {
    "name": "ipython",
    "version": 3
   },
   "file_extension": ".py",
   "mimetype": "text/x-python",
   "name": "python",
   "nbconvert_exporter": "python",
   "pygments_lexer": "ipython3",
   "version": "3.6.7"
  }
 },
 "nbformat": 4,
 "nbformat_minor": 2
}
