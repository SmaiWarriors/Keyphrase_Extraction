{
 "cells": [
  {
   "cell_type": "code",
   "execution_count": 1,
   "metadata": {},
   "outputs": [
    {
     "name": "stderr",
     "output_type": "stream",
     "text": [
      "/home/aman/.local/lib/python3.6/site-packages/smart_open/ssh.py:34: UserWarning: paramiko missing, opening SSH/SCP/SFTP paths will be disabled.  `pip install paramiko` to suppress\n",
      "  warnings.warn('paramiko missing, opening SSH/SCP/SFTP paths will be disabled.  `pip install paramiko` to suppress')\n"
     ]
    }
   ],
   "source": [
    "import gensim\n",
    "from gensim.models import word2vec\n",
    "from gensim.models import KeyedVectors\n",
    "from sklearn.metrics.pairwise import cosine_similarity\n",
    "import nltk\n",
    "from nltk.corpus import stopwords"
   ]
  },
  {
   "cell_type": "code",
   "execution_count": 2,
   "metadata": {},
   "outputs": [
    {
     "name": "stdout",
     "output_type": "stream",
     "text": [
      "[['the', 'name', 'bollywood', 'portmanteau', 'derived', 'bombay', 'former', 'name', 'mumbai', 'hollywood', 'california', 'center', 'american', 'film', 'industry'], ['bollywood', 'exist', 'physical', 'place'], ['the', 'name', 'bollywood', 'criticized', 'film', 'journalists', 'critics', 'arguing', 'makes', 'industry', 'look', 'like', 'poor', 'cousin', 'hollywood'], ['according', 'madhava', 'prasad-', 'author', 'ideology', 'hindi', 'film—2000', 'surviving', 'bollywood—2008', 'described', 'bollywood', 'inspired', 'tollywood', '—once', 'refer', 'cinema', 'west', 'bengal', 'dating', 'back', '1932'], ['tollywood', 'earliest', 'hollywood-inspired', 'name', 'referring', 'bengali', 'film', 'industry', 'based', 'tollygunge', 'calcutta', 'west', 'bengal', 'whose', 'name', 'reminiscent', 'hollywood', 'centre', 'cinema', 'india', 'time'], ['according', 'p.anandam', 'kavoori', 'aswin', 'punathambekar', 'book', 'global', 'bollywood', '2008', '—the', 'popular', 'calcutta-based', 'junior', 'statesman', 'youth', 'magazine', 'establishing', 'precedent', 'film', 'industries', 'use', 'similar-sounding', 'names', 'eventually', 'leading', 'coining', 'bollywood'], ['tollywood', 'referred', 'telugu', 'film', 'industry', 'part', 'indian', 'cinema'], ['according', 'oxforddictionaries.com—', 'online', 'version', 'oxford', 'dictionary', 'english', 'word', 'bollywood', 'got', 'originated', '1970'], ['print', 'media', 'also', 'claims', 'got', 'originated', '1970', 'popularized', 'time', 'cinema', 'india', 'overtook', 'hollywood', 'terms', 'film', 'production'], ['many', 'journalists', 'credited', 'newspapers', 'invention', 'word', 'bollywood'], ['according', 'the', 'telegraph', 'article', 'published', '2005', 'amit', 'khanna', 'coined', 'word', 'bollywood'], ['according', 'the', 'hindu', 'article', 'published', '2004', 'journalist', 'bevinda', 'collaco'], []]\n",
      "done\n"
     ]
    }
   ],
   "source": [
    "stop_words = set(stopwords.words('english'))\n",
    "\n",
    "def text_processing(file):\n",
    "    f = open(file, 'r', encoding='utf-8')\n",
    "    text = f.read()\n",
    "    \n",
    "    #Tokenization : Convert to sentences and then to words\n",
    "    sentences = nltk.sent_tokenize(text)\n",
    "    \n",
    "    data = []\n",
    "    \n",
    "    for sent in sentences:\n",
    "        words = nltk.word_tokenize(sent)\n",
    "        words = [w.lower() for w in words if len(w)>2 and w not in stop_words]\n",
    "        data.append(words)\n",
    "        \n",
    "    return data\n",
    "\n",
    "text = text_processing(\"stars.txt\")\n",
    "print(text)\n",
    "print(\"done\")"
   ]
  },
  {
   "cell_type": "code",
   "execution_count": 3,
   "metadata": {},
   "outputs": [
    {
     "name": "stdout",
     "output_type": "stream",
     "text": [
      "Word2Vec(vocab=119, size=300, alpha=0.025)\n",
      "['the', 'name', 'bollywood', 'portmanteau', 'derived', 'bombay', 'former', 'mumbai', 'hollywood', 'california', 'center', 'american', 'film', 'industry', 'exist', 'physical', 'place', 'criticized', 'journalists', 'critics', 'arguing', 'makes', 'look', 'like', 'poor', 'cousin', 'according', 'madhava', 'prasad-', 'author', 'ideology', 'hindi', 'film—2000', 'surviving', 'bollywood—2008', 'described', 'inspired', 'tollywood', '—once', 'refer', 'cinema', 'west', 'bengal', 'dating', 'back', '1932', 'earliest', 'hollywood-inspired', 'referring', 'bengali', 'based', 'tollygunge', 'calcutta', 'whose', 'reminiscent', 'centre', 'india', 'time', 'p.anandam', 'kavoori', 'aswin', 'punathambekar', 'book', 'global', '2008', '—the', 'popular', 'calcutta-based', 'junior', 'statesman', 'youth', 'magazine', 'establishing', 'precedent', 'industries', 'use', 'similar-sounding', 'names', 'eventually', 'leading', 'coining', 'referred', 'telugu', 'part', 'indian', 'oxforddictionaries.com—', 'online', 'version', 'oxford', 'dictionary', 'english', 'word', 'got', 'originated', '1970', 'print', 'media', 'also', 'claims', 'popularized', 'overtook', 'terms', 'production', 'many', 'credited', 'newspapers', 'invention', 'telegraph', 'article', 'published', '2005', 'amit', 'khanna', 'coined', 'hindu', '2004', 'journalist', 'bevinda', 'collaco']\n",
      "119\n"
     ]
    }
   ],
   "source": [
    "from gensim.models import Word2Vec\n",
    "\n",
    "model = Word2Vec(text, size=300, window = 10, min_count=1)\n",
    "print(model)\n",
    "words = list(model.wv.vocab)\n",
    "print(words)\n",
    "print(len(words))"
   ]
  },
  {
   "cell_type": "code",
   "execution_count": 5,
   "metadata": {},
   "outputs": [
    {
     "name": "stderr",
     "output_type": "stream",
     "text": [
      "/home/aman/.local/lib/python3.6/site-packages/ipykernel_launcher.py:11: DeprecationWarning: Call to deprecated `similar_by_word` (Method will be removed in 4.0.0, use self.wv.similar_by_word() instead).\n",
      "  # This is added back by InteractiveShellApp.init_path()\n",
      "/home/aman/.local/lib/python3.6/site-packages/ipykernel_launcher.py:14: DeprecationWarning: Call to deprecated `__getitem__` (Method will be removed in 4.0.0, use self.wv.__getitem__() instead).\n",
      "  \n",
      "/home/aman/.local/lib/python3.6/site-packages/ipykernel_launcher.py:16: DeprecationWarning: Call to deprecated `__getitem__` (Method will be removed in 4.0.0, use self.wv.__getitem__() instead).\n",
      "  app.launch_new_instance()\n"
     ]
    },
    {
     "data": {
      "image/png": "[encoded data removed]",
      "text/plain": [
       "<matplotlib.figure.Figure at 0x7f38fc0e3828>"
      ]
     },
     "metadata": {
      "needs_background": "light"
     },
     "output_type": "display_data"
    }
   ],
   "source": [
    "from sklearn.manifold import TSNE\n",
    "import numpy as np\n",
    "import matplotlib.pyplot as plt\n",
    "\n",
    "def display_closestwords_tsnescatterplot(model, word):\n",
    "    \n",
    "    arr = np.empty((0,300), dtype='f')\n",
    "    word_labels = [word]\n",
    "\n",
    "    # get close words\n",
    "    close_words = model.similar_by_word(word)\n",
    "    \n",
    "    # add the vector for each of the closest words to the array\n",
    "    arr = np.append(arr, np.array([model[word]]), axis=0)\n",
    "    for wrd_score in close_words:\n",
    "        wrd_vector = model[wrd_score[0]]\n",
    "        word_labels.append(wrd_score[0])\n",
    "        arr = np.append(arr, np.array([wrd_vector]), axis=0)\n",
    "        \n",
    "    # find tsne coords for 2 dimensions\n",
    "    tsne = TSNE(n_components=2, random_state=0)\n",
    "    np.set_printoptions(suppress=True)\n",
    "    Y = tsne.fit_transform(arr)\n",
    "\n",
    "    x_coords = Y[:, 0]\n",
    "    y_coords = Y[:, 1]\n",
    "    # display scatter plot\n",
    "    plt.scatter(x_coords, y_coords)\n",
    "\n",
    "    for label, x, y in zip(word_labels, x_coords, y_coords):\n",
    "        plt.annotate(label, xy=(x, y), xytext=(0, 0), textcoords='offset points')\n",
    "    plt.xlim(x_coords.min()+0.00005, x_coords.max()+0.00005)\n",
    "    plt.ylim(y_coords.min()+0.00005, y_coords.max()+0.00005)\n",
    "    plt.show()\n",
    "    \n",
    "display_closestwords_tsnescatterplot(model, 'bollywood')"
   ]
  },
  {
   "cell_type": "code",
   "execution_count": null,
   "metadata": {},
   "outputs": [],
   "source": []
  }
 ],
 "metadata": {
  "kernelspec": {
   "display_name": "Python 3",
   "language": "python",
   "name": "python3"
  },
  "language_info": {
   "codemirror_mode": {
    "name": "ipython",
    "version": 3
   },
   "file_extension": ".py",
   "mimetype": "text/x-python",
   "name": "python",
   "nbconvert_exporter": "python",
   "pygments_lexer": "ipython3",
   "version": "3.6.7"
  }
 },
 "nbformat": 4,
 "nbformat_minor": 2
}
