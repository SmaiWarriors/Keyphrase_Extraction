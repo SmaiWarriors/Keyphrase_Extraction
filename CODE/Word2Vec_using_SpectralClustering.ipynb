{
 "cells": [
  {
   "cell_type": "markdown",
   "metadata": {},
   "source": [
    "# Keyphrase Extraction using Word2Vec with Spectral Clustering"
   ]
  },
  {
   "cell_type": "markdown",
   "metadata": {},
   "source": [
    "## 1. Importing Libraries"
   ]
  },
  {
   "cell_type": "code",
   "execution_count": 5,
   "metadata": {},
   "outputs": [],
   "source": [
    "import gensim\n",
    "from gensim.models import word2vec\n",
    "from gensim.models import KeyedVectors\n",
    "from sklearn.metrics.pairwise import cosine_similarity\n",
    "import nltk,re, pprint\n",
    "from nltk.tokenize import sent_tokenize, word_tokenize\n",
    "from nltk.chunk.regexp import *\n",
    "from nltk.corpus import stopwords\n",
    "from nltk.chunk.regexp import tag_pattern2re_pattern \n",
    "from nltk.stem import PorterStemmer, WordNetLemmatizer\n",
    "from nltk.corpus import state_union"
   ]
  },
  {
   "cell_type": "markdown",
   "metadata": {},
   "source": [
    "## 2. Text Processing \n",
    "        This Step includes removing the stop words , tokenize the text to convert into sentences and converting each word into lower case."
   ]
  },
  {
   "cell_type": "code",
   "execution_count": 6,
   "metadata": {},
   "outputs": [
    {
     "name": "stdout",
     "output_type": "stream",
     "text": [
      "Text Processing : done\n",
      "152\n"
     ]
    }
   ],
   "source": [
    "# Set Parameters\n",
    "n_clusters = 100    # No. Of Clusters\n",
    "stop_words = set(stopwords.words('english'))\n",
    "Actual_Summary = \"output.txt\"\n",
    "\n",
    "def text_processing(file):\n",
    "    f = open(file, 'r', encoding='utf-8')\n",
    "    text = f.read()\n",
    "    \n",
    "    #Tokenization : Convert to sentences and then to words\n",
    "    sentences = nltk.sent_tokenize(text)\n",
    "    \n",
    "    data = []\n",
    "    for sent in sentences:\n",
    "        words = nltk.word_tokenize(sent)\n",
    "        words = [w.lower() for w in words if len(w)>2 and w not in stop_words]\n",
    "        data.append(words)\n",
    "        \n",
    "    return data\n",
    "\n",
    "text = text_processing(\"input.txt\")\n",
    "print(\"Text Processing : done\")\n",
    "\n",
    "\n",
    "count_frequency = {}\n",
    "for line in text:\n",
    "    for w in line:\n",
    "        count_frequency[w] = 0\n",
    "        \n",
    "for line in text:\n",
    "    for w in line:\n",
    "        count_frequency[w] = count_frequency[w] + 1\n",
    "            \n",
    "candidate_term = len(count_frequency.keys())\n",
    "\n",
    "print(candidate_term)"
   ]
  },
  {
   "cell_type": "markdown",
   "metadata": {},
   "source": [
    "## 3. Word2Vec Model "
   ]
  },
  {
   "cell_type": "code",
   "execution_count": 7,
   "metadata": {},
   "outputs": [
    {
     "name": "stdout",
     "output_type": "stream",
     "text": [
      "Word2Vec Model : done\n"
     ]
    }
   ],
   "source": [
    "from gensim.models import Word2Vec\n",
    "\n",
    "model = Word2Vec(text, size=300, window = 10, min_count=1)\n",
    "words = list(model.wv.vocab)\n",
    "\n",
    "print(\"Word2Vec Model : done\")"
   ]
  },
  {
   "cell_type": "code",
   "execution_count": 8,
   "metadata": {},
   "outputs": [
    {
     "name": "stderr",
     "output_type": "stream",
     "text": [
      "/home/varun/.local/lib/python3.6/site-packages/ipykernel_launcher.py:11: DeprecationWarning: Call to deprecated `similar_by_word` (Method will be removed in 4.0.0, use self.wv.similar_by_word() instead).\n",
      "  # This is added back by InteractiveShellApp.init_path()\n",
      "/home/varun/.local/lib/python3.6/site-packages/ipykernel_launcher.py:14: DeprecationWarning: Call to deprecated `__getitem__` (Method will be removed in 4.0.0, use self.wv.__getitem__() instead).\n",
      "  \n",
      "/home/varun/.local/lib/python3.6/site-packages/ipykernel_launcher.py:16: DeprecationWarning: Call to deprecated `__getitem__` (Method will be removed in 4.0.0, use self.wv.__getitem__() instead).\n",
      "  app.launch_new_instance()\n"
     ]
    },
    {
     "data": {
      "text/plain": [
       "<Figure size 640x480 with 1 Axes>"
      ]
     },
     "metadata": {},
     "output_type": "display_data"
    }
   ],
   "source": [
    "from sklearn.manifold import TSNE\n",
    "import numpy as np\n",
    "import matplotlib.pyplot as plt\n",
    "\n",
    "def display_closestwords_tsnescatterplot(model, word):\n",
    "    \n",
    "    arr = np.empty((0,300), dtype='f')\n",
    "    word_labels = [word]\n",
    "\n",
    "    # get close words\n",
    "    close_words = model.similar_by_word(word)\n",
    "    \n",
    "    # add the vector for each of the closest words to the array\n",
    "    arr = np.append(arr, np.array([model[word]]), axis=0)\n",
    "    for wrd_score in close_words:\n",
    "        wrd_vector = model[wrd_score[0]]\n",
    "        word_labels.append(wrd_score[0])\n",
    "        arr = np.append(arr, np.array([wrd_vector]), axis=0)\n",
    "        \n",
    "    # find tsne coords for 2 dimensions\n",
    "    tsne = TSNE(n_components=2, random_state=0)\n",
    "    np.set_printoptions(suppress=True)\n",
    "    Y = tsne.fit_transform(arr)\n",
    "\n",
    "    x_coords = Y[:, 0]\n",
    "    y_coords = Y[:, 1]\n",
    "    # display scatter plot\n",
    "    plt.scatter(x_coords, y_coords)\n",
    "\n",
    "    for label, x, y in zip(word_labels, x_coords, y_coords):\n",
    "        plt.annotate(label, xy=(x, y), xytext=(0, 0), textcoords='offset points')\n",
    "    plt.xlim(x_coords.min()+0.00005, x_coords.max()+0.00005)\n",
    "    plt.ylim(y_coords.min()+0.00005, y_coords.max()+0.00005)\n",
    "    plt.show()\n",
    "    \n",
    "display_closestwords_tsnescatterplot(model, words[0])"
   ]
  },
  {
   "cell_type": "markdown",
   "metadata": {},
   "source": [
    "## 4. Spectral Clustering Applied"
   ]
  },
  {
   "cell_type": "code",
   "execution_count": 41,
   "metadata": {},
   "outputs": [
    {
     "name": "stderr",
     "output_type": "stream",
     "text": [
      "/home/varun/.local/lib/python3.6/site-packages/ipykernel_launcher.py:10: DeprecationWarning: Call to deprecated `syn0` (Attribute will be removed in 4.0.0, use self.vectors instead).\n",
      "  # Remove the CWD from sys.path while we load stuff.\n",
      "/home/varun/.local/lib/python3.6/site-packages/ipykernel_launcher.py:14: DeprecationWarning: Call to deprecated `syn0` (Attribute will be removed in 4.0.0, use self.vectors instead).\n",
      "  \n"
     ]
    },
    {
     "data": {
      "text/plain": [
       "<matplotlib.collections.PathCollection at 0x7f7699640320>"
      ]
     },
     "execution_count": 41,
     "metadata": {},
     "output_type": "execute_result"
    },
    {
     "data": {
      "image/png": "[encoded data removed]",
      "text/plain": [
       "<Figure size 648x504 with 1 Axes>"
      ]
     },
     "metadata": {
      "needs_background": "light"
     },
     "output_type": "display_data"
    }
   ],
   "source": [
    "# Implement Spectral Clustering\n",
    "\n",
    "from sklearn.cluster import SpectralClustering\n",
    "dot_size=50\n",
    "cmap = 'viridis'\n",
    "\n",
    "n_clusters = int(candidate_term*4/5)\n",
    "model_spectral = SpectralClustering(n_clusters, affinity='nearest_neighbors', assign_labels='kmeans')\n",
    "\n",
    "labels = model_spectral.fit_predict(model.wv.syn0)\n",
    "\n",
    "fig, ax = plt.subplots(figsize=(9,7))\n",
    "ax.set_title('spectral clustering', fontsize=18, fontweight='demi')\n",
    "plt.scatter(model.wv.syn0[:, 0], model.wv.syn0[:, 1], c=labels, s=dot_size, cmap=cmap)\n"
   ]
  },
  {
   "cell_type": "markdown",
   "metadata": {},
   "source": [
    "## 5. Applied K-Means and Regular Expression Parser"
   ]
  },
  {
   "cell_type": "code",
   "execution_count": 42,
   "metadata": {
    "scrolled": true
   },
   "outputs": [
    {
     "name": "stdout",
     "output_type": "stream",
     "text": [
      "***************************************************************************************************\n"
     ]
    },
    {
     "name": "stderr",
     "output_type": "stream",
     "text": [
      "/home/varun/.local/lib/python3.6/site-packages/ipykernel_launcher.py:40: DeprecationWarning: Call to deprecated `__getitem__` (Method will be removed in 4.0.0, use self.wv.__getitem__() instead).\n"
     ]
    },
    {
     "name": "stdout",
     "output_type": "stream",
     "text": [
      "done\n"
     ]
    }
   ],
   "source": [
    "from scipy.spatial import distance\n",
    "from sklearn.cluster import KMeans\n",
    "import numpy as np\n",
    "\n",
    "y_hc = []       \n",
    "y_hc = labels.copy()              # Output Of Spectral Clustering : A list \n",
    "summary = []\n",
    "\n",
    "print(\"***************************************************************************************************\")\n",
    "\n",
    "# Extracting The Keyword by choosing the mean of cluster\n",
    "def Extracted_Keywords(clus, clus_name):\n",
    "    \n",
    "    kmeans = KMeans(n_clusters=1, random_state=0).fit(clus)\n",
    "    labels = kmeans.labels_\n",
    "    mean = kmeans.cluster_centers_.reshape(300,1)\n",
    "    min_to_centre = []\n",
    "    \n",
    "    for i in clus:\n",
    "        Y = distance.cdist(i.reshape(300,1), mean, 'euclidean')\n",
    "        sum_Y = np.sum(Y)\n",
    "        min_to_centre.append(sum_Y)\n",
    "\n",
    "    min_value = min(min_to_centre)\n",
    "    ind_value = np.argmin(min_to_centre)\n",
    "    \n",
    "#     print(ind_value)\n",
    "#     print(clus_name[ind_value])  \n",
    "    summary.append(clus_name[ind_value])\n",
    "    \n",
    "    \n",
    "    \n",
    "for j in range(0,n_clusters):\n",
    "    clus = []\n",
    "    clus_name = []\n",
    "    count = 0\n",
    "    for i in range(len(y_hc)):\n",
    "        if(y_hc[i] == j):\n",
    "            count += 1\n",
    "            clus.append(model[words[i]])\n",
    "            clus_name.append(words[i])\n",
    "    \n",
    "    Extracted_Keywords(clus, clus_name)\n",
    "    \n",
    "    \n",
    "# print(nltk.pos_tag(summary))\n",
    "\n",
    "# Grammar Regular Expression\n",
    "# grammar = \"chunk:{(<JJ>)*(<NN | NNS | NNP>)+} \" \n",
    "# chunkParser= RegexpParser(grammar)\n",
    "# tagged = nltk.pos_tag(summary)\n",
    "# result = chunkParser.parse(tagged)\n",
    "\n",
    "# for subtree in result.subtrees():\n",
    "#     print(subtree)\n",
    "# result.draw()\n",
    "\n",
    "print(\"done\")\n"
   ]
  },
  {
   "cell_type": "code",
   "execution_count": null,
   "metadata": {},
   "outputs": [
    {
     "name": "stdout",
     "output_type": "stream",
     "text": [
      "(S\n",
      "  the/DT\n",
      "  (chunk bittorrent/NN)\n",
      "  files/VBZ\n",
      "  host/RBS\n",
      "  (chunk lokitorrent/JJ december/NN server/NN)\n",
      "  called/VBN\n",
      "  (chunk networks/NNS)\n",
      "  (chunk legal/JJ servers/NNS movie/NN links/NNS)\n",
      "  agreed/VBD\n",
      "  (chunk others/NNS)\n",
      "  said/VBD\n",
      "  illegally/RB\n",
      "  across/IN\n",
      "  (chunk file-sharers/NNS network/NN))\n",
      "(chunk bittorrent/NN)\n",
      "(chunk lokitorrent/JJ december/NN server/NN)\n",
      "(chunk networks/NNS)\n",
      "(chunk legal/JJ servers/NNS movie/NN links/NNS)\n",
      "(chunk others/NNS)\n",
      "(chunk file-sharers/NNS network/NN)\n"
     ]
    }
   ],
   "source": [
    "import collections\n",
    "summary_frequency = {}\n",
    "\n",
    "for word in summary:\n",
    "    summary_frequency[word] = count_frequency[word]\n",
    "    \n",
    "od = sorted(summary_frequency.items(), key=lambda x: x[1])\n",
    "od = od[::-1]\n",
    "\n",
    "result = []\n",
    "\n",
    "for i in range(0,20):\n",
    "    result.append(od[i][0])\n",
    "\n",
    "    \n",
    "    \n",
    "# Regular Expression Parser\n",
    "grammar = \"chunk:{(<JJ>)*(<NN | NNS | NNP>)+} \" \n",
    "chunkParser= RegexpParser(grammar)\n",
    "tagged = nltk.pos_tag(result)\n",
    "result = chunkParser.parse(tagged)\n",
    "for subtree in result.subtrees():\n",
    "    print(subtree)\n",
    "result.draw()\n"
   ]
  },
  {
   "cell_type": "code",
   "execution_count": 44,
   "metadata": {},
   "outputs": [
    {
     "name": "stdout",
     "output_type": "stream",
     "text": [
      "S\n",
      "('the', 'DT')\n",
      "hii\n",
      "(chunk bittorrent/NN)\n",
      "('files', 'VBZ')\n",
      "('host', 'RBS')\n",
      "hii\n",
      "(chunk lokitorrent/JJ december/NN server/NN)\n",
      "('called', 'VBN')\n",
      "hii\n",
      "(chunk networks/NNS)\n",
      "hii\n",
      "(chunk legal/JJ servers/NNS movie/NN links/NNS)\n",
      "('agreed', 'VBD')\n",
      "hii\n",
      "(chunk others/NNS)\n",
      "('said', 'VBD')\n",
      "('illegally', 'RB')\n",
      "('across', 'IN')\n",
      "hii\n",
      "(chunk file-sharers/NNS network/NN)\n",
      "done\n"
     ]
    }
   ],
   "source": [
    "right_lis=[]\n",
    "def getNodes(parent):\n",
    "    print(parent.label())\n",
    "    for node in parent:\n",
    "      \n",
    "        if type(node) is nltk.Tree:\n",
    "            if node.label() == 'chunk':\n",
    "                print(\"hii\")\n",
    "                #print(node.leaves())\n",
    "                right_lis.append(node.leaves())\n",
    "                #print(\"Sentence:\", \" \".join(node.leaves()))  \n",
    "                \n",
    "            \n",
    "            else:\n",
    "                print(node.label())\n",
    "        else:\n",
    "            pass\n",
    "        print(node)  \n",
    "        \n",
    "getNodes(result)\n",
    "print(\"done\")\n"
   ]
  },
  {
   "cell_type": "code",
   "execution_count": 45,
   "metadata": {},
   "outputs": [
    {
     "name": "stdout",
     "output_type": "stream",
     "text": [
      "[[('bittorrent', 'NN')], [('lokitorrent', 'JJ'), ('december', 'NN'), ('server', 'NN')], [('networks', 'NNS')], [('legal', 'JJ'), ('servers', 'NNS'), ('movie', 'NN'), ('links', 'NNS')], [('others', 'NNS')], [('file-sharers', 'NNS'), ('network', 'NN')]]\n",
      "['bittorrent', ' lokitorrent december', 'server', ' networks', ' legal servers', 'movie', 'links', ' others', ' file-sharers', 'network']\n"
     ]
    }
   ],
   "source": [
    "\n",
    "keyphrase=[]\n",
    "str1=''\n",
    "for i in range(len(right_lis)):\n",
    "    for j in range(len(right_lis[i])):\n",
    "        for k in range(len(right_lis[i][j])-1):\n",
    "            if right_lis[i][j][k+1] != 'JJ':\n",
    "             \n",
    "                str1=str1+right_lis[i][j][k]\n",
    "                keyphrase.append(str1)\n",
    "                str1=''\n",
    "            else:\n",
    "            \n",
    "                str1=str1+right_lis[i][j][k] + ' '\n",
    "    str1=' '\n",
    "print(right_lis)\n",
    "print(keyphrase)"
   ]
  },
  {
   "cell_type": "markdown",
   "metadata": {},
   "source": [
    "## 6. Results : Precision, Recall, F-Measure"
   ]
  },
  {
   "cell_type": "code",
   "execution_count": 46,
   "metadata": {},
   "outputs": [
    {
     "name": "stdout",
     "output_type": "stream",
     "text": [
      "Predicted Summary : \n",
      "\n",
      "content allowed bittorrent continents uses click copying close clamping networks copyrighted files every targeting would industry films adding court called association succeeded file 100 edonkey trackers filing infringe dvds 30,000 message phoenix but server sites peer-to-peer system like systems motion action lawsuits claimed network records material getting since file-sharers stark ability n't given lawyers october another stunt dallas popular across illegally torrent struck the also aggressively access swap link round worried said number others shared copyright share could agreed came links using high-profile videos similar latest soon followed single appeared take hit december campaign nets america sharing already costs online hits suits copied movie they programmes servers well notices lokitorrent host four picture began illegal people hitting legal film strategy closed \n",
      "\n",
      "\n",
      "\n",
      "Actual Summary : \n",
      "\n",
      "It has filed 100 lawsuits against operators of BitTorrent server sites since December.In BitTorrent systems, server sites do not host the files being shared.It is the latest network which uses the peer-to-peer system called BitTorrent to be hit by the MPAA.But it is now targeting the operators of BitTorrent networks themselves.As well as filing an unspecified number of file suits across the US, the MPAA said it had given operators that host eDonkey servers \"take down\" notices.The MPAA began its legal campaign against operators of similar networks across four continents in December.The action came after the operators of LokiTorrent agreed a settlement with the MPAA.The Motion Picture Association of America (MPAA) also said it had succeeded in getting a network called LokiTorrent closed down.\n",
      "\n",
      "\n",
      "\n",
      "F-Measure :  0.3923444927323093\n",
      "Precision :  0.4659090909090909\n",
      "Recall    :  0.33884297520661155\n"
     ]
    }
   ],
   "source": [
    "from rouge import Rouge \n",
    "\n",
    "def Calculate_Score():\n",
    "    str2 = \"\"\n",
    "    for i in summary:\n",
    "        str2 = str2 + i\n",
    "        str2 = str2 + \" \"\n",
    "    \n",
    "    print(\"Predicted Summary : \\n\")\n",
    "    print(str2)\n",
    "\n",
    "    print(\"\\n\\n\")\n",
    "    \n",
    "    \n",
    "    f = open(Actual_Summary, 'r', encoding='utf-8')\n",
    "    text = f.read()\n",
    "    \n",
    "    print(\"Actual Summary : \\n\")\n",
    "    print(text)\n",
    "\n",
    "    rouge = Rouge()\n",
    "    scores = rouge.get_scores(text, str2)\n",
    "    print(\"\\n\\n\")\n",
    "    \n",
    "    print(\"F-Measure : \", scores[0]['rouge-1']['f'])\n",
    "    print(\"Precision : \", scores[0]['rouge-1']['p'])\n",
    "    print(\"Recall    : \", scores[0]['rouge-1']['r'])\n",
    "    \n",
    "Calculate_Score()"
   ]
  },
  {
   "cell_type": "code",
   "execution_count": null,
   "metadata": {},
   "outputs": [],
   "source": []
  }
 ],
 "metadata": {
  "kernelspec": {
   "display_name": "Python 3",
   "language": "python",
   "name": "python3"
  },
  "language_info": {
   "codemirror_mode": {
    "name": "ipython",
    "version": 3
   },
   "file_extension": ".py",
   "mimetype": "text/x-python",
   "name": "python",
   "nbconvert_exporter": "python",
   "pygments_lexer": "ipython3",
   "version": "3.6.7"
  }
 },
 "nbformat": 4,
 "nbformat_minor": 2
}
